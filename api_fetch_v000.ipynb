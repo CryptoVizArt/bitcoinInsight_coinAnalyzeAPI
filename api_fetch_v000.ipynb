{
 "cells": [
  {
   "cell_type": "code",
   "id": "initial_id",
   "metadata": {
    "collapsed": true,
    "ExecuteTime": {
     "end_time": "2024-09-19T16:39:47.355385Z",
     "start_time": "2024-09-19T16:39:46.920609Z"
    }
   },
   "source": [
    "import requests\n",
    "import time\n",
    "import pandas as pd\n",
    "\n",
    "API_KEY = \"73af62f1-882f-4c88-a477-ce6f38adde01\"  # Replace with your actual API key\n",
    "\n",
    "def get_supported_exchanges():\n",
    "    url = \"https://api.coinalyze.net/v1/exchanges\"\n",
    "    headers = {\"api_key\": API_KEY}\n",
    "    \n",
    "    while True:\n",
    "        try:\n",
    "            response = requests.get(url, headers=headers)\n",
    "            response.raise_for_status()  # Raise an exception for bad status codes\n",
    "            \n",
    "            return response.json()\n",
    "        except requests.HTTPError as e:\n",
    "            if e.response.status_code == 429:\n",
    "                retry_after = int(e.response.headers.get('Retry-After', 60))\n",
    "                print(f\"Rate limit reached. Waiting for {retry_after} seconds before retrying...\")\n",
    "                time.sleep(retry_after)\n",
    "            else:\n",
    "                print(f\"HTTP error occurred: {e}\")\n",
    "                return None\n",
    "        except requests.RequestException as e:\n",
    "            print(f\"An error occurred: {e}\")\n",
    "            return None\n",
    "\n",
    "def create_exchanges_dataframe(exchanges):\n",
    "    return pd.DataFrame(exchanges)\n",
    "\n",
    "def main():\n",
    "    exchanges = get_supported_exchanges()\n",
    "    \n",
    "    if exchanges:\n",
    "        df = create_exchanges_dataframe(exchanges)\n",
    "        print(\"Exchanges DataFrame:\")\n",
    "        print(df)\n",
    "        \n",
    "        # Optionally, save the DataFrame to a CSV file\n",
    "        df.to_csv('supported_exchanges.csv', index=False)\n",
    "        print(\"DataFrame saved to 'supported_exchanges.csv'\")\n",
    "    else:\n",
    "        print(\"Failed to retrieve supported exchanges.\")\n",
    "\n",
    "if __name__ == \"__main__\":\n",
    "    main()"
   ],
   "outputs": [
    {
     "name": "stdout",
     "output_type": "stream",
     "text": [
      "Exchanges DataFrame:\n",
      "                   name code\n",
      "0              Poloniex    P\n",
      "1                Vertex    V\n",
      "2              Bitforex    D\n",
      "3                Kraken    K\n",
      "4               Bithumb    U\n",
      "5              Bitstamp    B\n",
      "6              BitFlyer    L\n",
      "7            BtcMarkets    M\n",
      "8                 Bit2c    I\n",
      "9        MercadoBitcoin    E\n",
      "10  Independent Reserve    N\n",
      "11               Gemini    G\n",
      "12              Gate.io    Y\n",
      "13              Deribit    2\n",
      "14                  OKX    3\n",
      "15             Coinbase    C\n",
      "16             Bitfinex    F\n",
      "17                 Luno    J\n",
      "18               BitMEX    0\n",
      "19               Phemex    7\n",
      "20                WOO X    W\n",
      "21                Huobi    4\n",
      "22                 dYdX    8\n",
      "23                Bybit    6\n",
      "24              Binance    A\n",
      "DataFrame saved to 'supported_exchanges.csv'\n"
     ]
    }
   ],
   "execution_count": 5
  }
 ],
 "metadata": {
  "kernelspec": {
   "display_name": "Python 3",
   "language": "python",
   "name": "python3"
  },
  "language_info": {
   "codemirror_mode": {
    "name": "ipython",
    "version": 2
   },
   "file_extension": ".py",
   "mimetype": "text/x-python",
   "name": "python",
   "nbconvert_exporter": "python",
   "pygments_lexer": "ipython2",
   "version": "2.7.6"
  }
 },
 "nbformat": 4,
 "nbformat_minor": 5
}
