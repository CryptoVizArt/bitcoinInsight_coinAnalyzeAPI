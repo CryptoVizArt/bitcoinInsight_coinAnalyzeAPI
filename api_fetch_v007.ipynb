{
 "cells": [
  {
   "cell_type": "code",
   "id": "initial_id",
   "metadata": {
    "collapsed": true,
    "ExecuteTime": {
     "end_time": "2024-09-22T01:38:03.899139Z",
     "start_time": "2024-09-22T01:36:18.054274Z"
    }
   },
   "source": "",
   "outputs": [
    {
     "name": "stdout",
     "output_type": "stream",
     "text": [
      "Exchanges DataFrame saved to 'supported_exchanges.csv'\n",
      "Future Markets DataFrame saved to 'supported_future_markets.csv'\n",
      "BTC Perpetual Futures DataFrame saved to 'btc_perpetual_futures_usd.csv'\n",
      "Open Interest History DataFrame saved to 'open_interest_history.csv'\n",
      "Rate limit reached. Waiting for 14 seconds before retrying...\n",
      "Funding Rate History DataFrame saved to 'funding_rate_history.csv'\n",
      "Liquidation History DataFrame saved to 'liquidation_history.csv'\n"
     ]
    }
   ],
   "execution_count": 5
  }
 ],
 "metadata": {
  "kernelspec": {
   "display_name": "Python 3",
   "language": "python",
   "name": "python3"
  },
  "language_info": {
   "codemirror_mode": {
    "name": "ipython",
    "version": 2
   },
   "file_extension": ".py",
   "mimetype": "text/x-python",
   "name": "python",
   "nbconvert_exporter": "python",
   "pygments_lexer": "ipython2",
   "version": "2.7.6"
  }
 },
 "nbformat": 4,
 "nbformat_minor": 5
}
